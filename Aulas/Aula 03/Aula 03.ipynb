{
 "cells": [
  {
   "cell_type": "markdown",
   "metadata": {},
   "source": [
    "### Laço de Retição Enquanto em Python"
   ]
  },
  {
   "cell_type": "code",
   "execution_count": 1,
   "metadata": {},
   "outputs": [
    {
     "name": "stdout",
     "output_type": "stream",
     "text": [
      "1 ª vez\n",
      "2 ª vez\n",
      "3 ª vez\n",
      "4 ª vez\n",
      "5 ª vez\n",
      "6 ª vez\n",
      "7 ª vez\n",
      "8 ª vez\n",
      "9 ª vez\n",
      "10 ª vez\n"
     ]
    }
   ],
   "source": [
    "s = \"ª vez\"\n",
    "x = 1\n",
    "\n",
    "while (x<=10):\n",
    "    print(x,s)\n",
    "    x += 1"
   ]
  },
  {
   "cell_type": "code",
   "execution_count": 2,
   "metadata": {},
   "outputs": [
    {
     "name": "stdout",
     "output_type": "stream",
     "text": [
      "Contagem regressiva\n",
      "10\n",
      "9\n",
      "8\n",
      "7\n",
      "6\n",
      "5\n",
      "4\n",
      "3\n",
      "2\n",
      "1\n"
     ]
    }
   ],
   "source": [
    "s = \"Contagem regressiva\"\n",
    "y = 10\n",
    "\n",
    "print(s)\n",
    "while (y>0):\n",
    "    print(y)\n",
    "    y -= 1"
   ]
  },
  {
   "cell_type": "code",
   "execution_count": 4,
   "metadata": {},
   "outputs": [
    {
     "name": "stdout",
     "output_type": "stream",
     "text": [
      "Contagem regressiva\n",
      "10\n",
      "9\n",
      "8\n",
      "7\n",
      "6\n",
      "5\n",
      "4\n",
      "3\n",
      "2\n",
      "1\n"
     ]
    }
   ],
   "source": [
    "import time\n",
    "\n",
    "s = \"Contagem regressiva\"\n",
    "y = 10\n",
    "\n",
    "print(s)\n",
    "while (y>0):\n",
    "    print(y)\n",
    "    y -= 1\n",
    "    time.sleep(3)"
   ]
  },
  {
   "cell_type": "code",
   "execution_count": 5,
   "metadata": {},
   "outputs": [
    {
     "name": "stdout",
     "output_type": "stream",
     "text": [
      "0\n",
      "1\n",
      "2\n",
      "3\n",
      "4\n",
      "5\n",
      "6\n",
      "7\n",
      "8\n",
      "9\n"
     ]
    }
   ],
   "source": [
    "import time\n",
    "\n",
    "for tempo in range(10):\n",
    "    print(tempo)\n",
    "    time.sleep(2)"
   ]
  },
  {
   "cell_type": "code",
   "execution_count": 1,
   "metadata": {},
   "outputs": [
    {
     "name": "stdout",
     "output_type": "stream",
     "text": [
      "Gustavo\n",
      "Yves\n",
      "Roseli\n",
      "Murilo\n",
      "Rafaela\n"
     ]
    }
   ],
   "source": [
    "import time\n",
    "\n",
    "pessoa = (\n",
    "    \"Gustavo\",\n",
    "    \"Yves\",\n",
    "    \"Roseli\",\n",
    "    \"Murilo\",\n",
    "    \"Rafaela\"\n",
    ")\n",
    "\n",
    "x=0\n",
    "while(x<=4):\n",
    "    print(pessoa[x])\n",
    "    x += 1\n",
    "    time.sleep(3)"
   ]
  },
  {
   "cell_type": "code",
   "execution_count": 22,
   "metadata": {},
   "outputs": [
    {
     "name": "stdout",
     "output_type": "stream",
     "text": [
      "Pessoa    Idade  Salário\n",
      "Gustavo   28     R$ 1000.00\n",
      "Yves      21     R$ 500.00\n",
      "Roseli    52     R$ 2000.00\n",
      "Murilo    29     R$ 1250.00\n",
      "Rafaela   20     R$ 1900.00\n"
     ]
    }
   ],
   "source": [
    "import time\n",
    "\n",
    "pessoa = (\"Gustavo\",\"Yves\",\"Roseli\",\"Murilo\",\"Rafaela\")\n",
    "idade = (28,21,52,29,20)\n",
    "salario=(1000.00,500.00,2000.00,1250.00,1900.00)\n",
    "\n",
    "print(\"{:<10}{:<7}{:>7}\".format(\"Pessoa\",\"Idade\",\"Salário\"))\n",
    "x=0\n",
    "while(x<=4):\n",
    "    print(\"{:<10}{:<6}\".format(pessoa[x],idade[x]),\"R$ %.2f\" %(salario[x]))\n",
    "    x += 1\n",
    "    time.sleep(2)\n",
    "    "
   ]
  }
 ],
 "metadata": {
  "kernelspec": {
   "display_name": "Python 3.11.1 64-bit",
   "language": "python",
   "name": "python3"
  },
  "language_info": {
   "codemirror_mode": {
    "name": "ipython",
    "version": 3
   },
   "file_extension": ".py",
   "mimetype": "text/x-python",
   "name": "python",
   "nbconvert_exporter": "python",
   "pygments_lexer": "ipython3",
   "version": "3.11.1"
  },
  "orig_nbformat": 4,
  "vscode": {
   "interpreter": {
    "hash": "e8b1b2b3fb10fbf28300a1131f89489bd52da4452a5f67929faf7c4a3d6c0914"
   }
  }
 },
 "nbformat": 4,
 "nbformat_minor": 2
}
