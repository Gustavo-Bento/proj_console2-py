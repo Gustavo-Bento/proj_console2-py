{
 "cells": [
  {
   "cell_type": "markdown",
   "metadata": {},
   "source": [
    "### Laço de Retição Enquanto em Python"
   ]
  },
  {
   "cell_type": "code",
   "execution_count": 1,
   "metadata": {},
   "outputs": [
    {
     "name": "stdout",
     "output_type": "stream",
     "text": [
      "1 ª vez\n",
      "2 ª vez\n",
      "3 ª vez\n",
      "4 ª vez\n",
      "5 ª vez\n",
      "6 ª vez\n",
      "7 ª vez\n",
      "8 ª vez\n",
      "9 ª vez\n",
      "10 ª vez\n"
     ]
    }
   ],
   "source": [
    "s = \"ª vez\"\n",
    "x = 1\n",
    "\n",
    "while (x<=10):\n",
    "    print(x,s)\n",
    "    x += 1"
   ]
  },
  {
   "cell_type": "code",
   "execution_count": null,
   "metadata": {},
   "outputs": [],
   "source": [
    "s = \"Contagem regressiva\"\n",
    "y = 10\n",
    "\n",
    "print(s)\n",
    "while (y>0):\n",
    "    print(y)\n",
    "    y -= 1"
   ]
  }
 ],
 "metadata": {
  "kernelspec": {
   "display_name": "Python 3.11.1 64-bit",
   "language": "python",
   "name": "python3"
  },
  "language_info": {
   "codemirror_mode": {
    "name": "ipython",
    "version": 3
   },
   "file_extension": ".py",
   "mimetype": "text/x-python",
   "name": "python",
   "nbconvert_exporter": "python",
   "pygments_lexer": "ipython3",
   "version": "3.11.1"
  },
  "orig_nbformat": 4,
  "vscode": {
   "interpreter": {
    "hash": "e8b1b2b3fb10fbf28300a1131f89489bd52da4452a5f67929faf7c4a3d6c0914"
   }
  }
 },
 "nbformat": 4,
 "nbformat_minor": 2
}
