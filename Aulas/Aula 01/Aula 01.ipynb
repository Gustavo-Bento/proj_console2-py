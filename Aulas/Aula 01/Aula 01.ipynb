{
  "cells": [
    {
      "cell_type": "markdown",
      "metadata": {},
      "source": [
        "### Tipos de Variaveis em Python:"
      ]
    },
    {
      "cell_type": "code",
      "execution_count": 2,
      "metadata": {
        "trusted": true
      },
      "outputs": [
        {
          "name": "stdout",
          "output_type": "stream",
          "text": [
            "<class 'int'>\n",
            "<class 'float'>\n",
            "<class 'bool'>\n",
            "<class 'str'>\n"
          ]
        }
      ],
      "source": [
        "x = 6\n",
        "y = 4.5\n",
        "w = True\n",
        "z = \"Gustavo\"\n",
        "\n",
        "print(type(x))\n",
        "print(type(y))\n",
        "print(type(w))\n",
        "print(type(z))"
      ]
    },
    {
      "cell_type": "markdown",
      "metadata": {},
      "source": [
        "### Tipo de saída em Python:"
      ]
    },
    {
      "cell_type": "code",
      "execution_count": null,
      "metadata": {},
      "outputs": [
        {
          "name": "stdout",
          "output_type": "stream",
          "text": [
            "Olá meu nome é Gustavo . Tenho 28 anos de idade.\n",
            "\n",
            "Nome     Idade  Ativo\n",
            "Gustavo  28     0\n"
          ]
        }
      ],
      "source": [
        "nome = \"Gustavo\"\n",
        "idade = 28\n",
        "ativo = False\n",
        "\n",
        "print(\"Olá meu nome é\",nome,\". Tenho\",idade,\"anos de idade.\")\n",
        "print(\"\\n{:<9}{:<7}{:<0}\".format(\"Nome\",\"Idade\",\"Ativo\"))\n",
        "print(\"{:<9}{:<7}{:<0}\".format(nome,idade,ativo))"
      ]
    },
    {
      "cell_type": "markdown",
      "metadata": {},
      "source": [
        "### TIpo de Listas e Tuplas"
      ]
    },
    {
      "cell_type": "code",
      "execution_count": 28,
      "metadata": {
        "trusted": true
      },
      "outputs": [
        {
          "name": "stdout",
          "output_type": "stream",
          "text": [
            "\n",
            "Nome     Idade  Ativo\n",
            "Gustavo  28     1\n",
            "Yves     21     0\n"
          ]
        }
      ],
      "source": [
        "nomes = [\"Gustavo\", \"Yves\"]\n",
        "idades = [28, 21]\n",
        "ativos = [True, False]\n",
        "\n",
        "print(\"\\n{:<9}{:<7}{:<0}\".format(\"Nome\",\"Idade\",\"Ativo\"))\n",
        "print(\"{:<9}{:<7}{:<0}\".format(nomes[0],idades[0],ativos[0]))\n",
        "print(\"{:<9}{:<7}{:<0}\".format(nomes[1],idades[1],ativos[1]))"
      ]
    },
    {
      "cell_type": "code",
      "execution_count": 34,
      "metadata": {
        "trusted": true
      },
      "outputs": [
        {
          "name": "stdout",
          "output_type": "stream",
          "text": [
            "\n",
            "Nome     Idade  Ativo\n",
            "Gustavo  28     1\n",
            "Yves     21     0\n"
          ]
        }
      ],
      "source": [
        "pessoa1 = (\"Gustavo\",28,True)\n",
        "pessoa2 = (\"Yves\",21,False)\n",
        "\n",
        "print(\"\\n{:<9}{:<7}{:<0}\".format(\"Nome\",\"Idade\",\"Ativo\"))\n",
        "print(\"{:<9}{:<7}{:<0}\".format(pessoa1[0],pessoa1[1],pessoa1[2]))\n",
        "print(\"{:<9}{:<7}{:<0}\".format(pessoa2[0],pessoa2[1],pessoa2[2]))"
      ]
    },
    {
      "cell_type": "code",
      "execution_count": 45,
      "metadata": {
        "trusted": true
      },
      "outputs": [
        {
          "name": "stdout",
          "output_type": "stream",
          "text": [
            "\n",
            "Nome     Idade  Ativo\n",
            "Gustavo  28     1\n",
            "Yves     21     0\n"
          ]
        }
      ],
      "source": [
        "pessoa = [\n",
        "    (\"Gustavo\",28,True),\n",
        "    (\"Yves\",21,False)\n",
        "]\n",
        "\n",
        "print(\"\\n{:<9}{:<7}{:<0}\".format(\"Nome\",\"Idade\",\"Ativo\"))\n",
        "print(\"{:<9}{:<7}{:<0}\".format(pessoa[0][0],pessoa[0][1],pessoa[0][2]))\n",
        "print(\"{:<9}{:<7}{:<0}\".format(pessoa[1][0],pessoa[1][1],pessoa[1][2]))"
      ]
    },
    {
      "cell_type": "markdown",
      "metadata": {},
      "source": [
        "### Estrutura de Decisão Simples, Aninhado e Composto"
      ]
    },
    {
      "cell_type": "code",
      "execution_count": 48,
      "metadata": {
        "trusted": true
      },
      "outputs": [
        {
          "name": "stdout",
          "output_type": "stream",
          "text": [
            "Gustavo é maior de idade\n"
          ]
        }
      ],
      "source": [
        "nome = \"Gustavo\"\n",
        "idade = 28\n",
        "\n",
        "if (idade>=18):\n",
        "    print(nome,\"é maior de idade\")\n",
        "else:\n",
        "    print(nome,\"é menor de idade\")"
      ]
    },
    {
      "cell_type": "code",
      "execution_count": 52,
      "metadata": {
        "trusted": true
      },
      "outputs": [
        {
          "name": "stdout",
          "output_type": "stream",
          "text": [
            "Gustavo é maior de idade\n",
            "Possui salário acima do salário mínimo!\n"
          ]
        }
      ],
      "source": [
        "nome = \"Gustavo\"\n",
        "idade = 28\n",
        "salario = 2000\n",
        "\n",
        "if (idade>=18):\n",
        "    print(nome, \"é maior de idade\")\n",
        "    if (salario>1320):\n",
        "        print(\"Possui salário acima do salário mínimo!\")\n",
        "    else:\n",
        "        print(\"Possui salário abaixo ou igual ao salário mínimo!\")\n",
        "else:\n",
        "    print(nome,\"é menor de idade\")"
      ]
    },
    {
      "cell_type": "code",
      "execution_count": 68,
      "metadata": {
        "trusted": true
      },
      "outputs": [
        {
          "name": "stdout",
          "output_type": "stream",
          "text": [
            "Aprovado\n"
          ]
        }
      ],
      "source": [
        "nome = \"Gustavo\"\n",
        "idade =19\n",
        "renda = 3500\n",
        "entrada = 10000\n",
        "serasa = False\n",
        "situacao = True\n",
        "\n",
        "if (\n",
        "    (idade>=18)\n",
        "    and(renda>=2500)\n",
        "    and(serasa==False)\n",
        "):\n",
        "    if(\n",
        "        (renda>=5000)\n",
        "        or(entrada>=10000)\n",
        "    ):\n",
        "        situacao = True\n",
        "        print(\"Aprovado\")\n",
        "    else:\n",
        "        print(\"Analisar\")\n",
        "else:\n",
        "    situacao = False\n",
        "    print(\"Reprovado\")\n",
        "    "
      ]
    }
  ],
  "metadata": {
    "kernelspec": {
      "display_name": "Python 3.11.1 64-bit",
      "language": "python",
      "name": "python3"
    },
    "language_info": {
      "codemirror_mode": {
        "name": "python",
        "version": 3
      },
      "file_extension": ".py",
      "mimetype": "text/x-python",
      "name": "python",
      "nbconvert_exporter": "python",
      "pygments_lexer": "ipython3",
      "version": "3.11.1"
    },
    "vscode": {
      "interpreter": {
        "hash": "e8b1b2b3fb10fbf28300a1131f89489bd52da4452a5f67929faf7c4a3d6c0914"
      }
    }
  },
  "nbformat": 4,
  "nbformat_minor": 4
}
