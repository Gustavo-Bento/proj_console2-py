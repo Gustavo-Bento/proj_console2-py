{
  "metadata": {
    "language_info": {
      "codemirror_mode": {
        "name": "python",
        "version": 3
      },
      "file_extension": ".py",
      "mimetype": "text/x-python",
      "name": "python",
      "nbconvert_exporter": "python",
      "pygments_lexer": "ipython3",
      "version": "3.8"
    },
    "kernelspec": {
      "name": "python",
      "display_name": "Python (Pyodide)",
      "language": "python"
    }
  },
  "nbformat_minor": 4,
  "nbformat": 4,
  "cells": [
    {
      "cell_type": "markdown",
      "source": "### Tipos de Variaveis em Python:",
      "metadata": {}
    },
    {
      "cell_type": "code",
      "source": "x = 6\ny = 4.5\nw = True\nz = \"Gustavo\"\n\nprint(type(x))\nprint(type(y))\nprint(type(w))\nprint(type(z))",
      "metadata": {
        "trusted": true
      },
      "execution_count": 2,
      "outputs": [
        {
          "name": "stdout",
          "text": "<class 'int'>\n<class 'float'>\n<class 'bool'>\n<class 'str'>\n",
          "output_type": "stream"
        }
      ]
    },
    {
      "cell_type": "markdown",
      "source": "### Tipo de saída em Python:",
      "metadata": {}
    },
    {
      "cell_type": "code",
      "source": "nome = \"Gustavo\"\nidade = 28\nativo = False\n\nprint(\"Olá meu nome é\",nome,\". Tenho\",idade,\"anos de idade.\")\nprint(\"\\n{:<9}{:<7}{:<0}\".format(\"Nome\",\"Idade\",\"Ativo\"))\nprint(\"{:<9}{:<7}{:<0}\".format(nome,idade,ativo))",
      "metadata": {},
      "execution_count": null,
      "outputs": [
        {
          "name": "stdout",
          "text": "Olá meu nome é Gustavo . Tenho 28 anos de idade.\n\nNome     Idade  Ativo\nGustavo  28     0\n",
          "output_type": "stream"
        }
      ]
    },
    {
      "cell_type": "markdown",
      "source": "### TIpo de Listas e Tuplas",
      "metadata": {}
    },
    {
      "cell_type": "code",
      "source": "nomes = [\"Gustavo\", \"Yves\"]\nidades = [28, 21]\nativos = [True, False]\n\nprint(\"\\n{:<9}{:<7}{:<0}\".format(\"Nome\",\"Idade\",\"Ativo\"))\nprint(\"{:<9}{:<7}{:<0}\".format(nomes[0],idades[0],ativos[0]))\nprint(\"{:<9}{:<7}{:<0}\".format(nomes[1],idades[1],ativos[1]))",
      "metadata": {
        "trusted": true
      },
      "execution_count": 28,
      "outputs": [
        {
          "name": "stdout",
          "text": "\nNome     Idade  Ativo\nGustavo  28     1\nYves     21     0\n",
          "output_type": "stream"
        }
      ]
    },
    {
      "cell_type": "code",
      "source": "pessoa1 = (\"Gustavo\",28,True)\npessoa2 = (\"Yves\",21,False)\n\nprint(\"\\n{:<9}{:<7}{:<0}\".format(\"Nome\",\"Idade\",\"Ativo\"))\nprint(\"{:<9}{:<7}{:<0}\".format(pessoa1[0],pessoa1[1],pessoa1[2]))\nprint(\"{:<9}{:<7}{:<0}\".format(pessoa2[0],pessoa2[1],pessoa2[2]))",
      "metadata": {
        "trusted": true
      },
      "execution_count": 34,
      "outputs": [
        {
          "name": "stdout",
          "text": "\nNome     Idade  Ativo\nGustavo  28     1\nYves     21     0\n",
          "output_type": "stream"
        }
      ]
    },
    {
      "cell_type": "code",
      "source": "pessoa = [\n    (\"Gustavo\",28,True),\n    (\"Yves\",21,False)\n]\n\nprint(\"\\n{:<9}{:<7}{:<0}\".format(\"Nome\",\"Idade\",\"Ativo\"))\nprint(\"{:<9}{:<7}{:<0}\".format(pessoa[0][0],pessoa[0][1],pessoa[0][2]))\nprint(\"{:<9}{:<7}{:<0}\".format(pessoa[1][0],pessoa[1][1],pessoa[1][2]))",
      "metadata": {
        "trusted": true
      },
      "execution_count": 45,
      "outputs": [
        {
          "name": "stdout",
          "text": "\nNome     Idade  Ativo\nGustavo  28     1\nYves     21     0\n",
          "output_type": "stream"
        }
      ]
    },
    {
      "cell_type": "markdown",
      "source": "### Estrutura de Decisão Simples, Aninhado e Composto",
      "metadata": {}
    },
    {
      "cell_type": "code",
      "source": "nome = \"Gustavo\"\nidade = 28\n\nif (idade>=18):\n    print(nome,\"é maior de idade\")\nelse:\n    print(nome,\"é menor de idade\")",
      "metadata": {
        "trusted": true
      },
      "execution_count": 48,
      "outputs": [
        {
          "name": "stdout",
          "text": "Gustavo é maior de idade\n",
          "output_type": "stream"
        }
      ]
    },
    {
      "cell_type": "code",
      "source": "nome = \"Gustavo\"\nidade = 28\nsalario = 2000\n\nif (idade>=18):\n    print(nome, \"é maior de idade\")\n    if (salario>1320):\n        print(\"Possui salário acima do salário mínimo!\")\n    else:\n        print(\"Possui salário abaixo ou igual ao salário mínimo!\")\nelse:\n    print(nome,\"é menor de idade\")",
      "metadata": {
        "trusted": true
      },
      "execution_count": 52,
      "outputs": [
        {
          "name": "stdout",
          "text": "Gustavo é maior de idade\nPossui salário acima do salário mínimo!\n",
          "output_type": "stream"
        }
      ]
    },
    {
      "cell_type": "code",
      "source": "nome = \"Gustavo\"\nidade =19\nrenda = 3500\nentrada = 10000\nserasa = False\nsituacao = True\n\nif (\n    (idade>=18)\n    and(renda>=2500)\n    and(serasa==False)\n):\n    if(\n        (renda>=5000)\n        or(entrada>=10000)\n    ):\n        situacao = True\n        print(\"Aprovado\")\n    else:\n        print(\"Analisar\")\nelse:\n    situacao = False\n    print(\"Reprovado\")\n    ",
      "metadata": {
        "trusted": true
      },
      "execution_count": 68,
      "outputs": [
        {
          "name": "stdout",
          "text": "Aprovado\n",
          "output_type": "stream"
        }
      ]
    },
    {
      "cell_type": "code",
      "source": "",
      "metadata": {},
      "execution_count": null,
      "outputs": []
    }
  ]
}