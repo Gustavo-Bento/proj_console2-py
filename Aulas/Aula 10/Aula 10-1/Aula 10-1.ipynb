{
 "cells": [
  {
   "cell_type": "markdown",
   "metadata": {},
   "source": [
    "### Introdução a Dicionários em Python"
   ]
  },
  {
   "cell_type": "code",
   "execution_count": 1,
   "metadata": {},
   "outputs": [],
   "source": [
    "lista = [1,2,3,4]\n",
    "tupla = (5,6,7,8)\n",
    "dicionario = {'Curso':'Python','Prof':'Gustavo','Carga':'30'}"
   ]
  },
  {
   "cell_type": "code",
   "execution_count": 2,
   "metadata": {},
   "outputs": [
    {
     "name": "stdout",
     "output_type": "stream",
     "text": [
      "1\n",
      "5\n",
      "Python\n"
     ]
    }
   ],
   "source": [
    "print(lista[0])\n",
    "print(tupla[0])\n",
    "print(dicionario['Curso'])"
   ]
  },
  {
   "cell_type": "code",
   "execution_count": 3,
   "metadata": {},
   "outputs": [],
   "source": [
    "lista.append(10)\n",
    "dicionario['Escola']='Microcamp'\n",
    "dicionario['Ativo']=True"
   ]
  },
  {
   "cell_type": "code",
   "execution_count": 7,
   "metadata": {},
   "outputs": [
    {
     "name": "stdout",
     "output_type": "stream",
     "text": [
      "10\n",
      "Microcamp\n",
      "True\n"
     ]
    }
   ],
   "source": [
    "print(lista[4])\n",
    "print(dicionario['Escola'])\n",
    "print(dicionario['Ativo'])"
   ]
  },
  {
   "cell_type": "code",
   "execution_count": 14,
   "metadata": {},
   "outputs": [
    {
     "name": "stdout",
     "output_type": "stream",
     "text": [
      "dict_keys(['Curso', 'Prof', 'Carga', 'Escola', 'Ativo'])\n",
      "dict_values(['Python', 'Gustavo', '30', 'Microcamp', True])\n"
     ]
    }
   ],
   "source": [
    "print(dicionario.keys())\n",
    "print(dicionario.values())"
   ]
  }
 ],
 "metadata": {
  "kernelspec": {
   "display_name": "Python 3.11.1 64-bit",
   "language": "python",
   "name": "python3"
  },
  "language_info": {
   "codemirror_mode": {
    "name": "ipython",
    "version": 3
   },
   "file_extension": ".py",
   "mimetype": "text/x-python",
   "name": "python",
   "nbconvert_exporter": "python",
   "pygments_lexer": "ipython3",
   "version": "3.11.1"
  },
  "orig_nbformat": 4,
  "vscode": {
   "interpreter": {
    "hash": "e8b1b2b3fb10fbf28300a1131f89489bd52da4452a5f67929faf7c4a3d6c0914"
   }
  }
 },
 "nbformat": 4,
 "nbformat_minor": 2
}
